{
 "cells": [
  {
   "cell_type": "markdown",
   "id": "c4b8e4aa",
   "metadata": {},
   "source": [
    "## Imports"
   ]
  },
  {
   "cell_type": "code",
   "execution_count": 11,
   "id": "b534b274",
   "metadata": {},
   "outputs": [],
   "source": [
    "import pandas as pd\n",
    "import numpy as np\n",
    "from sklearn.model_selection import train_test_split\n",
    "from sklearn.linear_model import LinearRegression, SGDRegressor\n",
    "from sklearn.metrics import mean_absolute_error, mean_squared_error, mean_absolute_percentage_error\n",
    "from sklearn.pipeline import make_pipeline\n",
    "from sklearn.preprocessing import StandardScaler\n",
    "from IPython.display import display"
   ]
  },
  {
   "cell_type": "markdown",
   "id": "39b8b8ff",
   "metadata": {},
   "source": [
    "## Load dataset"
   ]
  },
  {
   "cell_type": "code",
   "execution_count": 12,
   "id": "3e32b49e",
   "metadata": {},
   "outputs": [],
   "source": [
    "df = pd.read_csv('./house_price.csv')\n",
    "\n",
    "# Features and target\n",
    "X = df[['size', 'bedroom']]\n",
    "y = df['price']"
   ]
  },
  {
   "cell_type": "markdown",
   "id": "f84f877d",
   "metadata": {},
   "source": [
    "## Split into train and test sets"
   ]
  },
  {
   "cell_type": "code",
   "execution_count": 13,
   "id": "ebc0ce03",
   "metadata": {},
   "outputs": [],
   "source": [
    "X_train, X_test, y_train, y_test = train_test_split(X, y, test_size=0.2, random_state=42)\n"
   ]
  },
  {
   "cell_type": "markdown",
   "id": "c24be5a3",
   "metadata": {},
   "source": [
    "## Define models"
   ]
  },
  {
   "cell_type": "code",
   "execution_count": 14,
   "id": "a3e3ed3a",
   "metadata": {},
   "outputs": [],
   "source": [
    "models = {\n",
    "    'LinearRegression': LinearRegression(),\n",
    "    'SGDRegressor_Scaled': make_pipeline(\n",
    "        StandardScaler(),\n",
    "        SGDRegressor(max_iter=1000, tol=1e-3, learning_rate='constant', eta0=0.01, random_state=42)\n",
    "    )\n",
    "}"
   ]
  },
  {
   "cell_type": "markdown",
   "id": "7bd1043a",
   "metadata": {},
   "source": [
    "## Train, predict, and evaluate"
   ]
  },
  {
   "cell_type": "code",
   "execution_count": 15,
   "id": "a6e4f19a",
   "metadata": {},
   "outputs": [],
   "source": [
    "results = {}\n",
    "for name, model in models.items():\n",
    "    model.fit(X_train, y_train)\n",
    "    y_pred = model.predict(X_test)\n",
    "    \n",
    "    mae  = mean_absolute_error(y_test, y_pred)\n",
    "    mse  = mean_squared_error(y_test, y_pred)\n",
    "    rmse = np.sqrt(mse)\n",
    "    mape = mean_absolute_percentage_error(y_test, y_pred)\n",
    "    \n",
    "    # Retrieve coefficients and intercept\n",
    "    if name == 'LinearRegression':\n",
    "        coef_size, coef_bedroom = model.coef_\n",
    "        intercept = model.intercept_\n",
    "    else:\n",
    "        # pipeline: scaler then regressor\n",
    "        reg = model.named_steps['sgdregressor']\n",
    "        coef_size, coef_bedroom = reg.coef_\n",
    "        intercept = reg.intercept_\n",
    "    \n",
    "    results[name] = {\n",
    "        'Coeff_size':    coef_size,\n",
    "        'Coeff_bedroom': coef_bedroom,\n",
    "        'Intercept':     intercept,\n",
    "        'MAE':           mae,\n",
    "        'MSE':           mse,\n",
    "        'RMSE':          rmse,\n",
    "        'MAPE':          mape\n",
    "    }"
   ]
  },
  {
   "cell_type": "markdown",
   "id": "a465ce69",
   "metadata": {},
   "source": [
    "## Display results\n"
   ]
  },
  {
   "cell_type": "code",
   "execution_count": 16,
   "id": "7529fda3",
   "metadata": {},
   "outputs": [
    {
     "data": {
      "text/html": [
       "<div>\n",
       "<style scoped>\n",
       "    .dataframe tbody tr th:only-of-type {\n",
       "        vertical-align: middle;\n",
       "    }\n",
       "\n",
       "    .dataframe tbody tr th {\n",
       "        vertical-align: top;\n",
       "    }\n",
       "\n",
       "    .dataframe thead th {\n",
       "        text-align: right;\n",
       "    }\n",
       "</style>\n",
       "<table border=\"1\" class=\"dataframe\">\n",
       "  <thead>\n",
       "    <tr style=\"text-align: right;\">\n",
       "      <th></th>\n",
       "      <th>Coeff_size</th>\n",
       "      <th>Coeff_bedroom</th>\n",
       "      <th>Intercept</th>\n",
       "      <th>MAE</th>\n",
       "      <th>MSE</th>\n",
       "      <th>RMSE</th>\n",
       "      <th>MAPE</th>\n",
       "    </tr>\n",
       "  </thead>\n",
       "  <tbody>\n",
       "    <tr>\n",
       "      <th>LinearRegression</th>\n",
       "      <td>143.218532</td>\n",
       "      <td>-13512.564426</td>\n",
       "      <td>84763.622522</td>\n",
       "      <td>72334.753604</td>\n",
       "      <td>8610424544.77767</td>\n",
       "      <td>92792.373311</td>\n",
       "      <td>0.174605</td>\n",
       "    </tr>\n",
       "    <tr>\n",
       "      <th>SGDRegressor_Scaled</th>\n",
       "      <td>106364.871854</td>\n",
       "      <td>-10466.906599</td>\n",
       "      <td>[322796.80224115663]</td>\n",
       "      <td>72290.321812</td>\n",
       "      <td>8638986133.931728</td>\n",
       "      <td>92946.146418</td>\n",
       "      <td>0.174353</td>\n",
       "    </tr>\n",
       "  </tbody>\n",
       "</table>\n",
       "</div>"
      ],
      "text/plain": [
       "                        Coeff_size Coeff_bedroom             Intercept  \\\n",
       "LinearRegression        143.218532 -13512.564426          84763.622522   \n",
       "SGDRegressor_Scaled  106364.871854 -10466.906599  [322796.80224115663]   \n",
       "\n",
       "                              MAE                MSE          RMSE      MAPE  \n",
       "LinearRegression     72334.753604   8610424544.77767  92792.373311  0.174605  \n",
       "SGDRegressor_Scaled  72290.321812  8638986133.931728  92946.146418  0.174353  "
      ]
     },
     "metadata": {},
     "output_type": "display_data"
    }
   ],
   "source": [
    "results_df = pd.DataFrame(results).T\n",
    "display(results_df)"
   ]
  },
  {
   "cell_type": "markdown",
   "id": "5f334bb6",
   "metadata": {},
   "source": [
    "## Trade‑offs Between Metrics\n",
    "\n",
    "- **MAE (Mean Absolute Error)**  \n",
    "  - Measures the average absolute dollar‑error.  \n",
    "  - **Less sensitive to outliers**, each error counts equally.\n",
    "\n",
    "- **MSE (Mean Squared Error)**  \n",
    "  - Squares each error before averaging.  \n",
    "  - **Penalizes larger errors more heavily**, so big misses hurt more.\n",
    "\n",
    "- **RMSE (Root Mean Squared Error)**  \n",
    "  - The square‑root of MSE, back in the original price units.  \n",
    "  - **More interpretable** in dollars, but still emphasizes large errors.\n",
    "\n",
    "- **MAPE (Mean Absolute Percentage Error)**  \n",
    "  - Averages the absolute percentage errors.  \n",
    "  - **Gives error as a percentage** of the true price, useful for relative comparisons across different price ranges.\n"
   ]
  }
 ],
 "metadata": {
  "kernelspec": {
   "display_name": "PythonCVI",
   "language": "python",
   "name": "cvi-env"
  },
  "language_info": {
   "codemirror_mode": {
    "name": "ipython",
    "version": 3
   },
   "file_extension": ".py",
   "mimetype": "text/x-python",
   "name": "python",
   "nbconvert_exporter": "python",
   "pygments_lexer": "ipython3",
   "version": "3.11.9"
  }
 },
 "nbformat": 4,
 "nbformat_minor": 5
}
