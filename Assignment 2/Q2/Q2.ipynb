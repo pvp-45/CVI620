{
 "cells": [
  {
   "cell_type": "markdown",
   "id": "cae8e11a",
   "metadata": {},
   "source": [
    "## Imports"
   ]
  },
  {
   "cell_type": "code",
   "execution_count": 9,
   "id": "fc052c9f",
   "metadata": {},
   "outputs": [],
   "source": [
    "import os\n",
    "import cv2\n",
    "import numpy as np\n",
    "import joblib\n",
    "from sklearn.model_selection import train_test_split\n",
    "from sklearn.neighbors import KNeighborsClassifier\n",
    "from sklearn.linear_model import LogisticRegression, SGDClassifier\n",
    "from sklearn.preprocessing import StandardScaler\n",
    "from sklearn.metrics import accuracy_score"
   ]
  },
  {
   "cell_type": "markdown",
   "id": "aba54d5b",
   "metadata": {},
   "source": [
    "## Load and preprocess train/test data with histogram equalization"
   ]
  },
  {
   "cell_type": "code",
   "execution_count": 10,
   "id": "c0e9c7ca",
   "metadata": {},
   "outputs": [],
   "source": [
    "# 1) Load and preprocess train/test data with histogram equalization\n",
    "def load_dataset(base_path, img_size=(64, 64)):\n",
    "    X, y = [], []\n",
    "    classes = ['Cat', 'Dog']\n",
    "    for label, cls in enumerate(classes):\n",
    "        folder = os.path.join(base_path, cls)\n",
    "        for fname in os.listdir(folder):\n",
    "            path = os.path.join(folder, fname)\n",
    "            img = cv2.imread(path)\n",
    "            if img is None:\n",
    "                continue\n",
    "            img = cv2.resize(img, img_size)\n",
    "            gray = cv2.cvtColor(img, cv2.COLOR_BGR2GRAY)\n",
    "            gray = cv2.equalizeHist(gray)         \n",
    "            X.append(gray.flatten())\n",
    "            y.append(label)\n",
    "    return np.array(X), np.array(y)\n",
    "\n",
    "X_train, y_train = load_dataset('./train')\n",
    "X_test, y_test   = load_dataset('./test')\n"
   ]
  },
  {
   "cell_type": "markdown",
   "id": "c4d1005f",
   "metadata": {},
   "source": [
    "## Scale features"
   ]
  },
  {
   "cell_type": "code",
   "execution_count": 11,
   "id": "884e46b8",
   "metadata": {},
   "outputs": [],
   "source": [
    "# 2) Scale features\n",
    "scaler = StandardScaler()\n",
    "X_train_scaled = scaler.fit_transform(X_train)\n",
    "X_test_scaled  = scaler.transform(X_test)"
   ]
  },
  {
   "cell_type": "markdown",
   "id": "643f1236",
   "metadata": {},
   "source": [
    "## Hyperparameter tuning for kNN (k from 1 to 15)"
   ]
  },
  {
   "cell_type": "code",
   "execution_count": 12,
   "id": "91c6c03e",
   "metadata": {},
   "outputs": [
    {
     "name": "stdout",
     "output_type": "stream",
     "text": [
      "Best k for kNN: 7 (accuracy=0.80)\n"
     ]
    }
   ],
   "source": [
    "# 3) Hyperparameter tuning for kNN (k from 1 to 15)\n",
    "best_k, best_knn_acc = None, 0.0\n",
    "knn_results = {}\n",
    "for k in [1, 3, 5, 7, 9, 11, 13, 15]:\n",
    "    knn = KNeighborsClassifier(n_neighbors=k)\n",
    "    knn.fit(X_train_scaled, y_train)\n",
    "    acc = accuracy_score(y_test, knn.predict(X_test_scaled))\n",
    "    knn_results[k] = acc\n",
    "    if acc > best_knn_acc:\n",
    "        best_k, best_knn_acc = k, acc\n",
    "\n",
    "print(f\"Best k for kNN: {best_k} (accuracy={best_knn_acc:.2f})\")"
   ]
  },
  {
   "cell_type": "markdown",
   "id": "8a5a74a3",
   "metadata": {},
   "source": [
    "## Hyperparameter tuning for Logistic Regression (C values)"
   ]
  },
  {
   "cell_type": "code",
   "execution_count": 13,
   "id": "88b6a9c7",
   "metadata": {},
   "outputs": [
    {
     "name": "stdout",
     "output_type": "stream",
     "text": [
      "Best C for LogisticRegression: 0.01 (accuracy=0.40)\n"
     ]
    }
   ],
   "source": [
    "# 4) Hyperparameter tuning for Logistic Regression (C values)\n",
    "best_C, best_log_acc = None, 0.0\n",
    "for C in [0.01, 0.1, 1, 10]:\n",
    "    logreg = LogisticRegression(C=C, max_iter=1000, random_state=42)\n",
    "    logreg.fit(X_train_scaled, y_train)\n",
    "    acc = accuracy_score(y_test, logreg.predict(X_test_scaled))\n",
    "    if acc > best_log_acc:\n",
    "        best_C, best_log_acc = C, acc\n",
    "\n",
    "print(f\"Best C for LogisticRegression: {best_C} (accuracy={best_log_acc:.2f})\")"
   ]
  },
  {
   "cell_type": "markdown",
   "id": "0f9e66db",
   "metadata": {},
   "source": [
    "## Hyperparameter tuning for Perceptron (alpha values)"
   ]
  },
  {
   "cell_type": "code",
   "execution_count": 14,
   "id": "e73c6030",
   "metadata": {},
   "outputs": [
    {
     "name": "stdout",
     "output_type": "stream",
     "text": [
      "Best alpha for Perceptron: 0.0001 (accuracy=0.50)\n"
     ]
    }
   ],
   "source": [
    "# 5) Hyperparameter tuning for Perceptron (alpha values)\n",
    "best_alpha, best_perc_acc = None, 0.0\n",
    "for alpha in [1e-4, 1e-3, 1e-2]:\n",
    "    perc = SGDClassifier(loss='perceptron', alpha=alpha, max_iter=1000, tol=1e-3, random_state=42)\n",
    "    perc.fit(X_train_scaled, y_train)\n",
    "    acc = accuracy_score(y_test, perc.predict(X_test_scaled))\n",
    "    if acc > best_perc_acc:\n",
    "        best_alpha, best_perc_acc = alpha, acc\n",
    "\n",
    "print(f\"Best alpha for Perceptron: {best_alpha} (accuracy={best_perc_acc:.2f})\")"
   ]
  },
  {
   "cell_type": "markdown",
   "id": "2fba0819",
   "metadata": {},
   "source": [
    "## Select and train the best overall model"
   ]
  },
  {
   "cell_type": "code",
   "execution_count": 15,
   "id": "46b62626",
   "metadata": {},
   "outputs": [
    {
     "name": "stdout",
     "output_type": "stream",
     "text": [
      "Selected best model: kNN (k=7) with accuracy 0.80\n"
     ]
    }
   ],
   "source": [
    "# 6) Select and train the best overall model\n",
    "all_results = {\n",
    "    f'kNN (k={best_k})': best_knn_acc,\n",
    "    'LogisticRegression': best_log_acc,\n",
    "    'Perceptron': best_perc_acc\n",
    "}\n",
    "best_name = max(all_results, key=all_results.get)\n",
    "\n",
    "if best_name.startswith('kNN'):\n",
    "    best_model = KNeighborsClassifier(n_neighbors=best_k).fit(X_train_scaled, y_train)\n",
    "elif best_name == 'LogisticRegression':\n",
    "    best_model = LogisticRegression(C=best_C, max_iter=1000, random_state=42).fit(X_train_scaled, y_train)\n",
    "else:\n",
    "    best_model = SGDClassifier(loss='perceptron', alpha=best_alpha, max_iter=1000, tol=1e-3, random_state=42).fit(X_train_scaled, y_train)\n",
    "\n",
    "print(f\"Selected best model: {best_name} with accuracy {all_results[best_name]:.2f}\")"
   ]
  },
  {
   "cell_type": "markdown",
   "id": "263c728f",
   "metadata": {},
   "source": [
    "## Save the best model & scaler"
   ]
  },
  {
   "cell_type": "code",
   "execution_count": 16,
   "id": "df3001cd",
   "metadata": {},
   "outputs": [
    {
     "name": "stdout",
     "output_type": "stream",
     "text": [
      "Saved best model and scaler to 'best_cat_dog_model.joblib'\n"
     ]
    }
   ],
   "source": [
    "# 7) Save the best model and scaler\n",
    "joblib.dump({'model': best_model, 'scaler': scaler}, 'best_cat_dog_model.joblib')\n",
    "print(\"Saved best model and scaler to 'best_cat_dog_model.joblib'\")"
   ]
  },
  {
   "cell_type": "markdown",
   "id": "3a394f33",
   "metadata": {},
   "source": [
    "## External predictions "
   ]
  },
  {
   "cell_type": "code",
   "execution_count": 17,
   "id": "f2e8b494",
   "metadata": {},
   "outputs": [
    {
     "name": "stdout",
     "output_type": "stream",
     "text": [
      "\n",
      "External image predictions:\n",
      "billi.jpg: predicted as Cat\n",
      "Catt.jpg: predicted as Cat\n",
      "kuku.jpg: predicted as Cat\n",
      "Pet.jpg: predicted as Cat\n",
      "Pet3.jpg: predicted as Dog\n",
      "Random Pet.jpg: predicted as Cat\n",
      "rnadom.jpg: predicted as Cat\n"
     ]
    }
   ],
   "source": [
    "# 8) External predictions \n",
    "ext_folder = './external_test'\n",
    "print(\"\\nExternal image predictions:\")\n",
    "for fname in os.listdir(ext_folder):\n",
    "    path = os.path.join(ext_folder, fname)\n",
    "    img = cv2.imread(path)\n",
    "    if img is None:\n",
    "        continue\n",
    "    img = cv2.resize(img, (64, 64))\n",
    "    gray = cv2.cvtColor(img, cv2.COLOR_BGR2GRAY)\n",
    "    gray = cv2.equalizeHist(gray)       \n",
    "    flat = gray.flatten().reshape(1, -1)\n",
    "    flat_scaled = scaler.transform(flat)\n",
    "    pred = best_model.predict(flat_scaled)[0]\n",
    "    label = 'Dog' if pred == 1 else 'Cat'\n",
    "    print(f\"{fname}: predicted as {label}\")"
   ]
  },
  {
   "cell_type": "markdown",
   "id": "37ae319b",
   "metadata": {},
   "source": [
    "- Tested on 7 external cat/dog images and got **4/7 correct (~57% accuracy)**.  \n",
    "- Model generalizes moderately above chance but still misclassifies nearly half.  \n",
    "- Errors are driven by domain shift (lighting, pose and background variations).  \n"
   ]
  }
 ],
 "metadata": {
  "kernelspec": {
   "display_name": "PythonCVI",
   "language": "python",
   "name": "cvi-env"
  },
  "language_info": {
   "codemirror_mode": {
    "name": "ipython",
    "version": 3
   },
   "file_extension": ".py",
   "mimetype": "text/x-python",
   "name": "python",
   "nbconvert_exporter": "python",
   "pygments_lexer": "ipython3",
   "version": "3.11.9"
  }
 },
 "nbformat": 4,
 "nbformat_minor": 5
}
