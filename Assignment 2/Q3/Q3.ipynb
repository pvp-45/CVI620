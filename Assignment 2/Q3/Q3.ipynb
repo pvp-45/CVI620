{
 "cells": [
  {
   "cell_type": "markdown",
   "id": "db55cb94",
   "metadata": {},
   "source": [
    "## Imports "
   ]
  },
  {
   "cell_type": "code",
   "execution_count": 13,
   "id": "ff462f0f",
   "metadata": {},
   "outputs": [],
   "source": [
    "import pandas as pd\n",
    "from sklearn.preprocessing import StandardScaler\n",
    "from sklearn.neighbors import KNeighborsClassifier\n",
    "from sklearn.linear_model import LogisticRegression, SGDClassifier\n",
    "from sklearn.metrics import accuracy_score\n",
    "from IPython.display import display"
   ]
  },
  {
   "cell_type": "markdown",
   "id": "7c8c6f5c",
   "metadata": {},
   "source": [
    "## Load MNIST CSVs without header and assign column names"
   ]
  },
  {
   "cell_type": "code",
   "execution_count": 15,
   "id": "6eaf8108",
   "metadata": {},
   "outputs": [],
   "source": [
    "train_df = pd.read_csv('./mnist_train.csv', header=None)\n",
    "test_df  = pd.read_csv('./mnist_test.csv',  header=None)\n",
    "train_df.columns = ['label'] + [f'pixel{i}' for i in range(train_df.shape[1]-1)]\n",
    "test_df.columns  = ['label'] + [f'pixel{i}' for i in range(test_df.shape[1]-1)]"
   ]
  },
  {
   "cell_type": "markdown",
   "id": "4a89423c",
   "metadata": {},
   "source": [
    "## Split into features and labels"
   ]
  },
  {
   "cell_type": "code",
   "execution_count": 16,
   "id": "6f42fcf8",
   "metadata": {},
   "outputs": [],
   "source": [
    "X_train, y_train = train_df.drop('label', axis=1).values, train_df['label'].values\n",
    "X_test,  y_test  = test_df.drop('label', axis=1).values,  test_df['label'].values"
   ]
  },
  {
   "cell_type": "markdown",
   "id": "eff20d77",
   "metadata": {},
   "source": [
    "## Scale once"
   ]
  },
  {
   "cell_type": "code",
   "execution_count": 17,
   "id": "95a1aad8",
   "metadata": {},
   "outputs": [],
   "source": [
    "scaler = StandardScaler()\n",
    "X_train_s = scaler.fit_transform(X_train)\n",
    "X_test_s  = scaler.transform(X_test)\n"
   ]
  },
  {
   "cell_type": "markdown",
   "id": "6beef8f5",
   "metadata": {},
   "source": [
    "## Define and train models"
   ]
  },
  {
   "cell_type": "code",
   "execution_count": null,
   "id": "e1866c60",
   "metadata": {},
   "outputs": [
    {
     "name": "stderr",
     "output_type": "stream",
     "text": [
      "c:\\Users\\pruth\\Documents\\Seneca College\\Seneca Sem 6\\CVI\\.venv\\Lib\\site-packages\\sklearn\\linear_model\\_logistic.py:1272: FutureWarning: 'multi_class' was deprecated in version 1.5 and will be removed in 1.7. From then on, it will always use 'multinomial'. Leave it to its default value to avoid this warning.\n",
      "  warnings.warn(\n"
     ]
    }
   ],
   "source": [
    "models = {\n",
    "    'KNN (k=3)': KNeighborsClassifier(n_neighbors=3, n_jobs=-1),\n",
    "    'LogisticRegression': LogisticRegression(\n",
    "        solver='lbfgs', multi_class='multinomial',\n",
    "        max_iter=1000, random_state=42\n",
    "    ),\n",
    "    'Perceptron (SGD)': SGDClassifier(\n",
    "        loss='perceptron', max_iter=1000,\n",
    "        tol=1e-3, random_state=42\n",
    "    )\n",
    "} \n",
    "\n",
    "results = {}\n",
    "for name, clf in models.items():\n",
    "    clf.fit(X_train_s, y_train)\n",
    "    preds = clf.predict(X_test_s)\n",
    "    results[name] = accuracy_score(y_test, preds)"
   ]
  },
  {
   "cell_type": "markdown",
   "id": "c2445741",
   "metadata": {},
   "source": [
    "## Display outcomes"
   ]
  },
  {
   "cell_type": "code",
   "execution_count": 21,
   "id": "e5e59fa8",
   "metadata": {},
   "outputs": [
    {
     "data": {
      "text/html": [
       "<div>\n",
       "<style scoped>\n",
       "    .dataframe tbody tr th:only-of-type {\n",
       "        vertical-align: middle;\n",
       "    }\n",
       "\n",
       "    .dataframe tbody tr th {\n",
       "        vertical-align: top;\n",
       "    }\n",
       "\n",
       "    .dataframe thead th {\n",
       "        text-align: right;\n",
       "    }\n",
       "</style>\n",
       "<table border=\"1\" class=\"dataframe\">\n",
       "  <thead>\n",
       "    <tr style=\"text-align: right;\">\n",
       "      <th></th>\n",
       "      <th>Accuracy</th>\n",
       "    </tr>\n",
       "  </thead>\n",
       "  <tbody>\n",
       "    <tr>\n",
       "      <th>KNN (k=3)</th>\n",
       "      <td>0.9452</td>\n",
       "    </tr>\n",
       "    <tr>\n",
       "      <th>LogisticRegression</th>\n",
       "      <td>0.9216</td>\n",
       "    </tr>\n",
       "    <tr>\n",
       "      <th>Perceptron (SGD)</th>\n",
       "      <td>0.8914</td>\n",
       "    </tr>\n",
       "  </tbody>\n",
       "</table>\n",
       "</div>"
      ],
      "text/plain": [
       "                    Accuracy\n",
       "KNN (k=3)             0.9452\n",
       "LogisticRegression    0.9216\n",
       "Perceptron (SGD)      0.8914"
      ]
     },
     "metadata": {},
     "output_type": "display_data"
    },
    {
     "name": "stdout",
     "output_type": "stream",
     "text": [
      "Best: KNN (k=3) -> 94.5200%\n"
     ]
    }
   ],
   "source": [
    "results_df = pd.DataFrame.from_dict(results, orient='index', columns=['Accuracy'])\n",
    "display(results_df)\n",
    "best = max(results, key=results.get)\n",
    "print(f\"Best: {best} -> {results[best]:.4%}\")"
   ]
  }
 ],
 "metadata": {
  "kernelspec": {
   "display_name": "PythonCVI",
   "language": "python",
   "name": "cvi-env"
  },
  "language_info": {
   "codemirror_mode": {
    "name": "ipython",
    "version": 3
   },
   "file_extension": ".py",
   "mimetype": "text/x-python",
   "name": "python",
   "nbconvert_exporter": "python",
   "pygments_lexer": "ipython3",
   "version": "3.11.9"
  }
 },
 "nbformat": 4,
 "nbformat_minor": 5
}
